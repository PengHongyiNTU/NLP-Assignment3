{
 "cells": [
  {
   "cell_type": "markdown",
   "metadata": {},
   "source": [
    "# CE7455 Assignment 3\n",
    "\n",
    "Peng Hongyi (G2105029E)"
   ]
  },
  {
   "cell_type": "code",
   "execution_count": 2,
   "metadata": {},
   "outputs": [
    {
     "name": "stdout",
     "output_type": "stream",
     "text": [
      "2103808\n"
     ]
    }
   ],
   "source": [
    "import torch \n",
    "from torch import nn\n",
    "transformer = nn.Transformer(d_model=512, nhead=8, \n",
    "                            num_encoder_layers=1, \n",
    "                            dim_feedforward=1024)\n",
    "print(sum(p.numel() for p in transformer.encoder.parameters()))"
   ]
  },
  {
   "cell_type": "code",
   "execution_count": 3,
   "metadata": {},
   "outputs": [
    {
     "name": "stdout",
     "output_type": "stream",
     "text": [
      "Num Layer1 | Num parameters 2103808\n",
      "Num Layer2 | Num parameters 4206592\n",
      "Num Layer3 | Num parameters 6309376\n",
      "Num Layer4 | Num parameters 8412160\n",
      "Num Layer5 | Num parameters 10514944\n",
      "Num Layer6 | Num parameters 12617728\n",
      "Num Layer7 | Num parameters 14720512\n",
      "Num Layer8 | Num parameters 16823296\n",
      "Num Layer9 | Num parameters 18926080\n",
      "Num Layer10 | Num parameters 21028864\n",
      "Num Layer11 | Num parameters 23131648\n",
      "Num Layer12 | Num parameters 25234432\n"
     ]
    }
   ],
   "source": [
    "for num_layer in range(1, 13, 1):\n",
    "    transformer = nn.Transformer(d_model=512, nhead=8, \n",
    "                            num_encoder_layers=num_layer, \n",
    "                            dim_feedforward=1024)\n",
    "    print(f'Num Layer{num_layer} | Num parameters {sum(p.numel() for p in transformer.encoder.parameters())}')"
   ]
  },
  {
   "cell_type": "code",
   "execution_count": 4,
   "metadata": {},
   "outputs": [],
   "source": [
    "import pandas as pd\n",
    "results = []\n",
    "num_layers = list(range(1, 13, 1))\n",
    "d_models = [512, 1024, 2048]\n",
    "for num_layer in num_layers:\n",
    "    for d_model in d_models:\n",
    "        transformer = nn.Transformer(d_model=d_model, nhead=8, \n",
    "                            num_encoder_layers=num_layer, \n",
    "                            dim_feedforward=1024)\n",
    "        num_parameter = sum(p.numel() for p in transformer.encoder.parameters())\n",
    "        results.append([num_parameter, num_layer, d_model])\n",
    "        # print(f'Num Layer{num_layer} | d_model {d_model} | Num parameters {num_parameter}')\n",
    "results = pd.DataFrame(results, columns=['num_parameter','num_layer', 'd_model'])"
   ]
  },
  {
   "cell_type": "code",
   "execution_count": 46,
   "metadata": {},
   "outputs": [
    {
     "data": {
      "text/plain": [
       "Text(0, 0.5, 'Num parameters')"
      ]
     },
     "execution_count": 46,
     "metadata": {},
     "output_type": "execute_result"
    },
    {
     "data": {
      "image/png": "[encoded data removed]",
      "text/plain": [
       "<Figure size 432x288 with 1 Axes>"
      ]
     },
     "metadata": {
      "needs_background": "light"
     },
     "output_type": "display_data"
    }
   ],
   "source": [
    "import matplotlib.pyplot as plt\n",
    "ax = plt.figure().add_subplot()\n",
    "slopes = []\n",
    "for d_model in results['d_model'].unique():\n",
    "    x = results[results['d_model'] == d_model]['num_layer'].values\n",
    "    y = results[results['d_model'] == d_model]['num_parameter'].values\n",
    "    slope = (y[-1]-y[0])/(x[-1]-x[0])\n",
    "    ax.plot(x, y, linewidth=3, label=f'd_model: {d_model} slope: {slope:.1f}')\n",
    "plt.legend()\n",
    "plt.xlabel('Num layers')\n",
    "plt.ylabel('Num parameters')\n"
   ]
  },
  {
   "cell_type": "code",
   "execution_count": null,
   "metadata": {},
   "outputs": [],
   "source": []
  }
 ],
 "metadata": {
  "interpreter": {
   "hash": "1579d4a348c2ef16482c05d3cfac916f73c8945ddf1938a1e045b3bdea82eece"
  },
  "kernelspec": {
   "display_name": "Python 3.9.7 ('VFL')",
   "language": "python",
   "name": "python3"
  },
  "language_info": {
   "codemirror_mode": {
    "name": "ipython",
    "version": 3
   },
   "file_extension": ".py",
   "mimetype": "text/x-python",
   "name": "python",
   "nbconvert_exporter": "python",
   "pygments_lexer": "ipython3",
   "version": "3.9.7"
  },
  "orig_nbformat": 4
 },
 "nbformat": 4,
 "nbformat_minor": 2
}
